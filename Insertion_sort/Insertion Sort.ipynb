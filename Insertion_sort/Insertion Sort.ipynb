{
 "cells": [
  {
   "cell_type": "markdown",
   "metadata": {},
   "source": [
    "#### 比较方式: \n",
    "1. 假定 len(sorted_list)=1\n",
    "2. list[0] 与 list[1] 比较,比较完之后 len(sorted_list)=2 \n",
    "3. list[2] 与 sorted_list 中的元素 由后向前(由大到小) 比较/插入之后 len(sorted_list)=3   \n",
    "\n",
    "代码中的处理方式是, 每次current data与sortedList中最后一个值sortedList[-1]比较,如果sortedList[-1]比current data大,就把sortedList[-1]后一个位置(也就是current data所在的位置)赋值, 此时数组内由2个相同的值,不过没关系,随着比较的推进,sortedList[-2]的值会赋给原来sortedList[-1]这个位置. 直到出现某个值A小于current data, A位于sortedList[-n]的位置, 此时有sortedList[-n+1]=sortedList[-n+2], 所以把sortedList[-n+1]这个位置赋予current data的值, 这一轮排序完成, 进入下一个for循环"
   ]
  },
  {
   "cell_type": "code",
   "execution_count": 36,
   "metadata": {},
   "outputs": [],
   "source": [
    "def insert_sort(input_list):\n",
    "    for i in range(1,len(input_list)):    \n",
    "        sorted_index = i-1    # 假设input list中第一个元素已经是sorted list的元素\n",
    "        current_data = input_list[i]   # unsorted部分的第一个元素是current_data\n",
    "        while (sorted_index >= 0 and current_data < input_list[sorted_index]):  # 将current data与sorted list中的元素由后向前比较\n",
    "            input_list[sorted_index+1] = input_list[sorted_index] # sorted list中最后一个值>current data, 将该值向后\"挪\"1个位置,\n",
    "            sorted_index -= 1                    # sorted list部分,通过while循环继续向前比较,'最后一个值'不断向后'挪'\n",
    "        input_list[sorted_index+1]=current_data   # 直到在sorted list中找到一个小于current data的值A,跳出循环,current data赋值给A后的位置\n",
    "    return input_list          "
   ]
  },
  {
   "cell_type": "code",
   "execution_count": 37,
   "metadata": {},
   "outputs": [
    {
     "name": "stdout",
     "output_type": "stream",
     "text": [
      "[-3, -2, 0, 1, 2, 3, 4, 5, 6]\n"
     ]
    }
   ],
   "source": [
    "a = [4,3,2,1,5,-2,6,-3,0]\n",
    "print(insert_sort(a))"
   ]
  }
 ],
 "metadata": {
  "kernelspec": {
   "display_name": "Python 3",
   "language": "python",
   "name": "python3"
  },
  "language_info": {
   "codemirror_mode": {
    "name": "ipython",
    "version": 3
   },
   "file_extension": ".py",
   "mimetype": "text/x-python",
   "name": "python",
   "nbconvert_exporter": "python",
   "pygments_lexer": "ipython3",
   "version": "3.6.4"
  }
 },
 "nbformat": 4,
 "nbformat_minor": 2
}
